{
 "cells": [
  {
   "cell_type": "markdown",
   "id": "cbb2aaf2",
   "metadata": {},
   "source": [
    "# Exercise\n"
   ]
  },
  {
   "cell_type": "code",
   "execution_count": 30,
   "id": "23a905ee",
   "metadata": {},
   "outputs": [],
   "source": [
    "import sys\n",
    "assert sys.version_info >= (3, 7)\n",
    "\n",
    "import numpy as np\n",
    "import cv2 as cv\n",
    "from util_func import *"
   ]
  },
  {
   "cell_type": "code",
   "execution_count": 37,
   "id": "d5d98c7f",
   "metadata": {},
   "outputs": [],
   "source": [
    "#Question 1\n",
    "\n",
    "img = cv.imread(\"images/lena.jfif\")\n",
    "\n",
    "h, w = img.shape[:2]\n",
    "yc, xc = h //2, w //2\n",
    "angle = -45 \n",
    "\n",
    "#get transformaton matrix\n",
    "M = cv.getRotationMatrix2D((xc, yc), angle, 1)\n",
    "\n",
    "#M = |cos(theta) -sin(theta) tx|\n",
    "#    |sin(theta) cos(theta)  ty|\n",
    "cosine = abs(M[0, 0])\n",
    "sine = abs(M[0, 1])\n",
    "\n",
    "#x' = ax + by [a=>scalling component in x-direction | b=> rotation comp in x-direction]\n",
    "#y' = cx + dy \n",
    "new_w = int((h * sine) + (w * cosine)) # h*sine => anount of distance extends vertically | w*cosine => horizontally | sum to get total width\n",
    "new_h = int((h * cosine) + (w * sine)) # h*cosine => vertical | w*sine => horizontal\n",
    "\n",
    "M[0, 2] += (new_w / 2) - xc #move img back to center\n",
    "M[1, 2] += (new_h / 2) - yc\n",
    "\n",
    "dst = cv.warpAffine(img, M, (new_w, new_h))\n",
    "\n",
    "show_img(\"rotation\", dst)"
   ]
  },
  {
   "cell_type": "code",
   "execution_count": 38,
   "id": "c93d0405",
   "metadata": {},
   "outputs": [],
   "source": [
    "img = cv.imread(\"images/lena.jfif\")\n",
    "rotated_image = imutils.rotate_bound(img, angle=45)\n",
    "show_img(\"rotation\", rotated_image)"
   ]
  },
  {
   "cell_type": "code",
   "execution_count": 39,
   "id": "e51a8156",
   "metadata": {},
   "outputs": [],
   "source": [
    "#Question 2\n",
    "\n",
    "flower = cv.imread(\"images/flower.jfif\")\n",
    "bee = cv.imread(\"images/native-bee.png\")\n",
    "\n",
    "# get ROI from original image = dsize of to-be-added image\n",
    "h, w = flower.shape[:2]\n",
    "roi = bee[:h, :w]\n",
    "\n",
    "gray_flower = cv.cvtColor(flower, cv.COLOR_BGR2GRAY)\n",
    "\n",
    "ret, mask = cv.threshold(gray_flower, 70, 255, cv.THRESH_BINARY)\n",
    "\n",
    "# black out object in ROI\n",
    "mask_inv = cv.bitwise_not(mask)\n",
    "bee_fg = cv.bitwise_and(roi, roi, mask=mask_inv)\n",
    "\n",
    "# get the object\n",
    "flower_bg = cv.bitwise_and(flower, flower, mask=mask)\n",
    "\n",
    "dst = cv.add(flower_bg, bee_fg)\n",
    "bee[:h, :w] = dst\n",
    "\n",
    "show_img(\"bee + flower\", bee)"
   ]
  },
  {
   "cell_type": "code",
   "execution_count": 40,
   "id": "086c29f1",
   "metadata": {},
   "outputs": [],
   "source": [
    "#Question 3\n",
    "\n",
    "img = cv.imread(\"images/native-bee.png\")\n",
    "\n",
    "kernel3 = np.array([[0,-1,0], [-1,5,-1], [0,-1,0]])\n",
    "kernel5 = np.ones((5,5)) * -1\n",
    "kernel5[3,3] = 25\n",
    "\n",
    "dst3 = cv.filter2D(img, -1, kernel3)\n",
    "dst5 = cv.filter2D(img, -1, kernel5)\n",
    "\n",
    "\n",
    "cv.imshow(\"3x3 kernel\", dst3)\n",
    "show_img(\"5x5 kernel\", dst5)"
   ]
  },
  {
   "cell_type": "code",
   "execution_count": 41,
   "id": "e125d734",
   "metadata": {},
   "outputs": [],
   "source": [
    "#Question 4\n",
    "\n",
    "img = cv.imread(\"images/noise_lena.jpg\")\n",
    "\n",
    "ksize = (5, 5)\n",
    "\n",
    "# blur (average filter)\n",
    "img_blur = cv.blur(img, ksize)\n",
    "\n",
    "# Gaussian filter\n",
    "img_gaussian = cv.GaussianBlur(img, ksize, 0)\n",
    "\n",
    "# median filter\n",
    "img_median = cv.medianBlur(img, ksize[0])\n",
    "\n",
    "\n",
    "cv.imshow(\"original\", img)\n",
    "\n",
    "# average filter: cv.blur\n",
    "cv.imshow(\"average filter\", img_blur)\n",
    "\n",
    "# gaussian filter: almost same as average filter, blur effect more satisfactory\n",
    "cv.imshow(\"Gaussian filter\", img_gaussian)\n",
    "\n",
    "# median filter: good for removing salt and pepper noise\n",
    "show_img(\"median filter\", img_median)"
   ]
  },
  {
   "cell_type": "code",
   "execution_count": null,
   "id": "c1835aab",
   "metadata": {},
   "outputs": [],
   "source": []
  }
 ],
 "metadata": {
  "kernelspec": {
   "display_name": "Python 3 (ipykernel)",
   "language": "python",
   "name": "python3"
  },
  "language_info": {
   "codemirror_mode": {
    "name": "ipython",
    "version": 3
   },
   "file_extension": ".py",
   "mimetype": "text/x-python",
   "name": "python",
   "nbconvert_exporter": "python",
   "pygments_lexer": "ipython3",
   "version": "3.9.12"
  }
 },
 "nbformat": 4,
 "nbformat_minor": 5
}
