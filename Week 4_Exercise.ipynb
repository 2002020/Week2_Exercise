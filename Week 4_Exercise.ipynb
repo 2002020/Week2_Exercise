{
 "cells": [
  {
   "cell_type": "markdown",
   "id": "2f540ec2",
   "metadata": {},
   "source": [
    "# Activity"
   ]
  },
  {
   "cell_type": "code",
   "execution_count": 44,
   "id": "6ed1b1cb",
   "metadata": {},
   "outputs": [],
   "source": [
    "import sys\n",
    "assert sys.version_info >= (3, 7)\n",
    "\n",
    "import numpy as np\n",
    "import cv2 as cv\n",
    "from util_func import show_img"
   ]
  },
  {
   "cell_type": "code",
   "execution_count": 59,
   "id": "ae494d5e",
   "metadata": {},
   "outputs": [],
   "source": [
    "#Question 1\n",
    "\n",
    "#set height & width\n",
    "h = 300\n",
    "w = 300\n",
    "\n",
    "noise_color_img = np.random.randint(0, high=256, size=(h, w, 3), dtype=np.uint8)\n",
    "grayscale_img = np.random.randint(0, high=256, size=(h, w), dtype=np.uint8)\n",
    "\n",
    "color_image = cv.cvtColor(noise_color_img, cv.COLOR_BGR2RGB)\n",
    "grayscale_image = cv.cvtColor(grayscale_img, cv.COLOR_GRAY2BGR)\n",
    "\n",
    "cv.imshow(\"Color image\", color_image)\n",
    "cv.imshow(\"Grayscale image\", grayscale_image)\n",
    "\n",
    "cv.waitKey(0)\n",
    "cv.destroyAllWindows()"
   ]
  },
  {
   "cell_type": "code",
   "execution_count": 60,
   "id": "8a7f023f",
   "metadata": {},
   "outputs": [],
   "source": [
    "#Question 2\n",
    "\n",
    "def crop_grid(img, num_horizontal_grid, num_vertical_grid, line_color):\n",
    "\n",
    "    #get the number of pixels for column and row\n",
    "    M = int(h / num_vertical_grid)\n",
    "    N = int(w / num_horizontal_grid)\n",
    "\n",
    "    for y in range(0, h, M):\n",
    "        for x in range(0, w, N):\n",
    "            x1 = x + N\n",
    "            y1 = y + M\n",
    "\n",
    "            if x1 > w and y1 > h:\n",
    "                x1 = w - 1\n",
    "                y1 = h - 1\n",
    "                cv.rectangle(img, (x, y), (x1, y1), line_color, 1)\n",
    "            elif y1 > w:\n",
    "                y1 = h - 1\n",
    "                cv.rectangle(img, (x, y), (x1, y1), line_color, 1)\n",
    "            elif x1 > w:\n",
    "                x1 = w - 1\n",
    "                cv.rectangle(img, (x, y), (x1, y1), line_color, 1)\n",
    "            else:\n",
    "                cv.rectangle(img, (x, y), (x1, y1), line_color, 1)\n",
    "    return img;"
   ]
  },
  {
   "cell_type": "code",
   "execution_count": 61,
   "id": "c2574f6e",
   "metadata": {},
   "outputs": [],
   "source": [
    "img = cv.imread(\"images/dog.jfif\")\n",
    "\n",
    "h, w = img.shape[:2]\n",
    "n_vertical_grids = 4\n",
    "n_horizontal_grids = 4\n",
    "\n",
    "grid_img = crop_grid(img, n_horizontal_grids, n_vertical_grids, (0, 0, 255))\n",
    "show_img(\"grid img\", grid_img)"
   ]
  },
  {
   "cell_type": "code",
   "execution_count": 62,
   "id": "3c68e229",
   "metadata": {},
   "outputs": [],
   "source": [
    "#Question 3\n",
    "\n",
    "img = cv.imread(\"images/lena.jfif\")\n",
    "img2 = cv.imread(\"images/coins.jfif\")\n",
    "\n",
    "if img is None: \n",
    "    raise Exception(\"lena image not found!\")\n",
    "if img2 is None:\n",
    "    raise Exception(\"coin image not found!\")\n",
    "\n",
    "for i in range(11):\n",
    "    #resize img2\n",
    "    alpha = i/10\n",
    "    h, w = img.shape[:2]\n",
    "    img2 = cv.resize(img2, (w, h))\n",
    "\n",
    "    #blending\n",
    "    res = cv.addWeighted(img, alpha, img2, 1-alpha, 0)  \n",
    "\n",
    "    cv.imshow(\"blending\", res)\n",
    "    cv.waitKey(300)\n",
    "\n",
    "cv.waitKey(0)\n",
    "cv.destroyAllWindows()"
   ]
  },
  {
   "cell_type": "code",
   "execution_count": 63,
   "id": "2b0f1666",
   "metadata": {},
   "outputs": [],
   "source": [
    "#Question 4\n",
    "\n",
    "img = cv.imread(\"images/travel_hd.jpg\")\n",
    "\n",
    "if img is None: \n",
    "    raise Exception(\"Image not found!\")\n",
    "\n",
    "img = cv.resize(img, None, fx=0.2, fy=0.1)\n",
    "\n",
    "font = cv.FONT_HERSHEY_SIMPLEX\n",
    "y, x = img.shape[:2]\n",
    "res = cv.putText(img, \"UCCC2513\", (10, y-30), None , 1, (255, 255, 0), 2)\n",
    "show_img(\"watermark image\", res)\n",
    "\n",
    "cv.waitKey(0)\n",
    "cv.destroyAllWindows()"
   ]
  },
  {
   "cell_type": "code",
   "execution_count": null,
   "id": "72a0ef48",
   "metadata": {},
   "outputs": [],
   "source": []
  }
 ],
 "metadata": {
  "kernelspec": {
   "display_name": "Python 3 (ipykernel)",
   "language": "python",
   "name": "python3"
  },
  "language_info": {
   "codemirror_mode": {
    "name": "ipython",
    "version": 3
   },
   "file_extension": ".py",
   "mimetype": "text/x-python",
   "name": "python",
   "nbconvert_exporter": "python",
   "pygments_lexer": "ipython3",
   "version": "3.9.12"
  }
 },
 "nbformat": 4,
 "nbformat_minor": 5
}
